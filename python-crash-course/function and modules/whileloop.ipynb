{
 "cells": [
  {
   "cell_type": "code",
   "execution_count": 1,
   "metadata": {},
   "outputs": [
    {
     "name": "stdout",
     "output_type": "stream",
     "text": [
      "hello there\n",
      "hello there\n",
      "hello there\n"
     ]
    }
   ],
   "source": [
    "# while loop\n",
    "count = 0\n",
    "while(count<3):\n",
    "    count = count+1\n",
    "    print(\"hello there\")"
   ]
  },
  {
   "cell_type": "code",
   "execution_count": 4,
   "metadata": {},
   "outputs": [
    {
     "name": "stdout",
     "output_type": "stream",
     "text": [
      "p\n",
      "\n"
     ]
    }
   ],
   "source": [
    "# break, continue and pass\n",
    "a = \"python programming\"\n",
    "for ele in a:\n",
    "    print(ele)\n",
    "    if ele == \"p\" or ele ==\"y\":\n",
    "        break\n",
    "    print(\"out of loop\")\n",
    "print()"
   ]
  },
  {
   "cell_type": "code",
   "execution_count": 6,
   "metadata": {},
   "outputs": [
    {
     "name": "stdout",
     "output_type": "stream",
     "text": [
      "p\n",
      "out of loop\n",
      "y\n",
      "t\n",
      "out of loop\n",
      "h\n",
      "out of loop\n",
      "o\n",
      "out of loop\n",
      "n\n",
      "out of loop\n",
      " \n",
      "out of loop\n",
      "p\n",
      "out of loop\n",
      "r\n",
      "out of loop\n",
      "o\n",
      "out of loop\n",
      "g\n",
      "out of loop\n",
      "r\n",
      "out of loop\n",
      "a\n",
      "m\n",
      "out of loop\n",
      "m\n",
      "out of loop\n",
      "i\n",
      "out of loop\n",
      "n\n",
      "out of loop\n",
      "g\n",
      "out of loop\n",
      "\n"
     ]
    }
   ],
   "source": [
    "#continue\n",
    "a = \"python programming\"\n",
    "for ele in a:\n",
    "    print(ele)\n",
    "    if ele == \"a\" or ele ==\"y\":\n",
    "        continue\n",
    "    print(\"out of loop\")\n",
    "print()"
   ]
  },
  {
   "cell_type": "code",
   "execution_count": 8,
   "metadata": {},
   "outputs": [
    {
     "name": "stdout",
     "output_type": "stream",
     "text": [
      "b\n"
     ]
    }
   ],
   "source": [
    "# pass\n",
    "li =['a', 'b', 'c', 'd']\n",
    "for i in li:\n",
    "    if(i =='a'):\n",
    "        pass\n",
    "    else:\n",
    "        print(i)\n",
    "        break\n"
   ]
  },
  {
   "cell_type": "code",
   "execution_count": null,
   "metadata": {},
   "outputs": [],
   "source": []
  }
 ],
 "metadata": {
  "interpreter": {
   "hash": "4f089d5d4fecc9b26343308b996fdd689be150f0b9db90d9fd8a6c55a5fc822c"
  },
  "kernelspec": {
   "display_name": "Python 3.7.8rc1 64-bit",
   "language": "python",
   "name": "python3"
  },
  "language_info": {
   "codemirror_mode": {
    "name": "ipython",
    "version": 3
   },
   "file_extension": ".py",
   "mimetype": "text/x-python",
   "name": "python",
   "nbconvert_exporter": "python",
   "pygments_lexer": "ipython3",
   "version": "3.7.8rc1"
  },
  "orig_nbformat": 4
 },
 "nbformat": 4,
 "nbformat_minor": 2
}
