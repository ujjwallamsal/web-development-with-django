{
 "cells": [
  {
   "cell_type": "code",
   "execution_count": 3,
   "metadata": {},
   "outputs": [
    {
     "name": "stdout",
     "output_type": "stream",
     "text": [
      "hello world\n"
     ]
    }
   ],
   "source": [
    "# User defined functions\n",
    "def fun ():\n",
    "    print(\"hello world\")\n",
    "fun()"
   ]
  },
  {
   "cell_type": "code",
   "execution_count": 6,
   "metadata": {},
   "outputs": [
    {
     "name": "stdout",
     "output_type": "stream",
     "text": [
      "helloujjwal\n",
      "helloujjwal\n",
      "hellopython programming\n",
      "None\n"
     ]
    }
   ],
   "source": [
    "# arguments of a function\n",
    "def hello(name):\n",
    "    print(f\"hello{name}\")\n",
    "    #default argument\n",
    "def hello2(name = \"ujjwal\"):\n",
    "    print(f\"hello{name}\")\n",
    "    #keyword arguments\n",
    "def hello3(fname , lname):\n",
    "    print(f\"hello{fname}{lname}\")\n",
    "hello(\"ujjwal\")\n",
    "hello2()\n",
    "a = \"python \"\n",
    "b = \"programming\"\n",
    "hello3(fname = a , lname=b)\n",
    "\n",
    "print(hello.__doc__)"
   ]
  },
  {
   "cell_type": "code",
   "execution_count": null,
   "metadata": {},
   "outputs": [],
   "source": []
  }
 ],
 "metadata": {
  "interpreter": {
   "hash": "4f089d5d4fecc9b26343308b996fdd689be150f0b9db90d9fd8a6c55a5fc822c"
  },
  "kernelspec": {
   "display_name": "Python 3.7.8rc1 64-bit",
   "language": "python",
   "name": "python3"
  },
  "language_info": {
   "codemirror_mode": {
    "name": "ipython",
    "version": 3
   },
   "file_extension": ".py",
   "mimetype": "text/x-python",
   "name": "python",
   "nbconvert_exporter": "python",
   "pygments_lexer": "ipython3",
   "version": "3.7.8rc1"
  },
  "orig_nbformat": 4
 },
 "nbformat": 4,
 "nbformat_minor": 2
}
