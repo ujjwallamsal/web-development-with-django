{
 "cells": [
  {
   "cell_type": "code",
   "execution_count": 3,
   "metadata": {},
   "outputs": [
    {
     "name": "stdout",
     "output_type": "stream",
     "text": [
      "hello world\n"
     ]
    }
   ],
   "source": [
    "# User defined functions\n",
    "def fun ():\n",
    "    print(\"hello world\")\n",
    "fun()"
   ]
  },
  {
   "cell_type": "code",
   "execution_count": 6,
   "metadata": {},
   "outputs": [
    {
     "name": "stdout",
     "output_type": "stream",
     "text": [
      "helloujjwal\n",
      "helloujjwal\n",
      "hellopython programming\n",
      "None\n"
     ]
    }
   ],
   "source": [
    "# arguments of a function\n",
    "def hello(name):\n",
    "    print(f\"hello{name}\")\n",
    "    #default argument\n",
    "def hello2(name = \"ujjwal\"):\n",
    "    print(f\"hello{name}\")\n",
    "    #keyword arguments\n",
    "def hello3(fname , lname):\n",
    "    print(f\"hello{fname}{lname}\")\n",
    "hello(\"ujjwal\")\n",
    "hello2()\n",
    "a = \"python \"\n",
    "b = \"programming\"\n",
    "hello3(fname = a , lname=b)\n",
    "\n",
    "print(hello.__doc__)"
   ]
  },
  {
   "cell_type": "code",
   "execution_count": 12,
   "metadata": {},
   "outputs": [
    {
     "name": "stdout",
     "output_type": "stream",
     "text": [
      "hello\n",
      "<class 'str'>\n",
      "3\n",
      "<class 'int'>\n",
      "welcome\n",
      "<class 'str'>\n",
      "python\n",
      "<class 'str'>\n",
      "1\n",
      "<class 'int'>\n",
      "2\n",
      "<class 'int'>\n",
      "3\n",
      "<class 'int'>\n"
     ]
    }
   ],
   "source": [
    "#variable length arguments\n",
    "#args\n",
    "def myfun(*a):\n",
    "    for ele in a:\n",
    "        print(ele)\n",
    "        print(type(ele))\n",
    "myfun(\"hello\" , 3 , \"welcome\")\n",
    "myfun(\"python\")\n",
    "myfun(1 ,2 ,3 )"
   ]
  },
  {
   "cell_type": "code",
   "execution_count": 11,
   "metadata": {},
   "outputs": [
    {
     "name": "stdout",
     "output_type": "stream",
     "text": [
      "{'first': 'python', 'mid': 'programming', 'third': 'software'}\n",
      "<class 'dict'>\n"
     ]
    }
   ],
   "source": [
    "#kwargs\n",
    "def myfun(**kwargs):\n",
    "    print(kwargs)\n",
    "    print(type(kwargs))\n",
    "myfun(first = \"python\" , mid = \"programming\" , third = \"software\")\n"
   ]
  },
  {
   "cell_type": "code",
   "execution_count": 14,
   "metadata": {},
   "outputs": [
    {
     "name": "stdout",
     "output_type": "stream",
     "text": [
      "hello ujjwal , how are you\n"
     ]
    }
   ],
   "source": [
    "# function that returns\n",
    "def hello(name):\n",
    "    result = f\"hello {name} , how are you\"\n",
    "    return result\n",
    "name = hello(\"ujjwal\")\n",
    "print(name)"
   ]
  },
  {
   "cell_type": "code",
   "execution_count": 23,
   "metadata": {},
   "outputs": [
    {
     "name": "stdout",
     "output_type": "stream",
     "text": [
      "2\n",
      "5\n"
     ]
    }
   ],
   "source": [
    "def absolute(num):\n",
    "    if num >= 0:\n",
    "        return num\n",
    "    else:\n",
    "        return -num\n",
    "print(absolute(2))\n",
    "print(absolute(-5))\n"
   ]
  },
  {
   "cell_type": "code",
   "execution_count": 25,
   "metadata": {},
   "outputs": [
    {
     "name": "stdout",
     "output_type": "stream",
     "text": [
      "Inside Function: I love Python\n",
      "I love Django\n"
     ]
    }
   ],
   "source": [
    "# Global and local variables\n",
    "def f():\n",
    "    # local variable\n",
    "    s = \"I love Python\"\n",
    "    print(\"Inside Function:\", s)\n",
    "s = 'I love Django' #global variable\n",
    "f()\n",
    "print(s)"
   ]
  },
  {
   "cell_type": "code",
   "execution_count": null,
   "metadata": {},
   "outputs": [],
   "source": []
  }
 ],
 "metadata": {
  "interpreter": {
   "hash": "4f089d5d4fecc9b26343308b996fdd689be150f0b9db90d9fd8a6c55a5fc822c"
  },
  "kernelspec": {
   "display_name": "Python 3.7.8rc1 64-bit",
   "language": "python",
   "name": "python3"
  },
  "language_info": {
   "codemirror_mode": {
    "name": "ipython",
    "version": 3
   },
   "file_extension": ".py",
   "mimetype": "text/x-python",
   "name": "python",
   "nbconvert_exporter": "python",
   "pygments_lexer": "ipython3",
   "version": "3.7.8"
  },
  "orig_nbformat": 4
 },
 "nbformat": 4,
 "nbformat_minor": 2
}
