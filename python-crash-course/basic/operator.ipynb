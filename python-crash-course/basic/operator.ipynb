{
 "cells": [
  {
   "cell_type": "code",
   "execution_count": 1,
   "metadata": {},
   "outputs": [
    {
     "name": "stdout",
     "output_type": "stream",
     "text": [
      "11\n",
      "-3\n",
      "28\n",
      "4\n",
      "0.5714285714285714\n",
      "0\n",
      "16384\n"
     ]
    }
   ],
   "source": [
    "a = 4\n",
    "b = 7\n",
    "sum = a+b\n",
    "div1 = a/b\n",
    "diff = a - b\n",
    "mul = a*b\n",
    "div2 = a//b\n",
    "mod = a%b\n",
    "power = a**b\n",
    "print(sum)\n",
    "print(diff)\n",
    "print(mul)\n",
    "print(mod)\n",
    "print(div1)\n",
    "print(div2)\n",
    "print(power)\n",
    "\n"
   ]
  },
  {
   "cell_type": "code",
   "execution_count": 2,
   "metadata": {},
   "outputs": [
    {
     "name": "stdout",
     "output_type": "stream",
     "text": [
      "True\n",
      "False\n",
      "False\n",
      "True\n",
      "False\n",
      "True\n"
     ]
    }
   ],
   "source": [
    "#comparision operator\n",
    "a = 5\n",
    "b = 6\n",
    "print(a<b)\n",
    "print(a>b)\n",
    "print(a==b)\n",
    "print(a != b)\n",
    "print(a >= b)\n",
    "print(a <= b)\n"
   ]
  },
  {
   "cell_type": "code",
   "execution_count": 4,
   "metadata": {},
   "outputs": [
    {
     "name": "stdout",
     "output_type": "stream",
     "text": [
      "False\n",
      "True\n",
      "False\n"
     ]
    }
   ],
   "source": [
    "a = True\n",
    "b = False\n",
    "print(a and b)\n",
    "print(a or b)\n",
    "print(not a)"
   ]
  },
  {
   "cell_type": "code",
   "execution_count": 1,
   "metadata": {},
   "outputs": [
    {
     "name": "stdout",
     "output_type": "stream",
     "text": [
      "False\n",
      "True\n",
      "True\n",
      "True\n"
     ]
    }
   ],
   "source": [
    "a = 10\n",
    "b = 20\n",
    "c = a\n",
    "d = 10\n",
    "print(a is b) \n",
    "print(a is not b) \n",
    "print(a is c) \n",
    "print(a is d) \n"
   ]
  },
  {
   "cell_type": "code",
   "execution_count": null,
   "metadata": {},
   "outputs": [],
   "source": []
  }
 ],
 "metadata": {
  "interpreter": {
   "hash": "4f089d5d4fecc9b26343308b996fdd689be150f0b9db90d9fd8a6c55a5fc822c"
  },
  "kernelspec": {
   "display_name": "Python 3.7.8rc1 64-bit",
   "language": "python",
   "name": "python3"
  },
  "language_info": {
   "codemirror_mode": {
    "name": "ipython",
    "version": 3
   },
   "file_extension": ".py",
   "mimetype": "text/x-python",
   "name": "python",
   "nbconvert_exporter": "python",
   "pygments_lexer": "ipython3",
   "version": "3.7.8rc1"
  },
  "orig_nbformat": 4
 },
 "nbformat": 4,
 "nbformat_minor": 2
}
