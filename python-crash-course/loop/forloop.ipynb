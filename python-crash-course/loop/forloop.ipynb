{
 "cells": [
  {
   "cell_type": "code",
   "execution_count": 4,
   "metadata": {},
   "outputs": [
    {
     "name": "stdout",
     "output_type": "stream",
     "text": [
      "2\n",
      "python\n",
      "3\n",
      "[1, 2, 3]\n",
      "4\n"
     ]
    }
   ],
   "source": [
    "# Iterating over a list\n",
    "a = [2, \"python\" , 3 ,[1,2,3]]\n",
    "for ele in a:\n",
    "    print(ele)\n",
    "print(len(a))"
   ]
  },
  {
   "cell_type": "code",
   "execution_count": 5,
   "metadata": {},
   "outputs": [
    {
     "name": "stdout",
     "output_type": "stream",
     "text": [
      "1\n",
      "python\n",
      "(1, 2, 3)\n",
      "2.0\n",
      "4\n"
     ]
    }
   ],
   "source": [
    "# Iterating over a tuple (immutable)\n",
    "a = (1,\"python\" , (1 , 2 , 3) , 2.0)\n",
    "for ele in a:\n",
    "    print(ele)\n",
    "print(len(a))"
   ]
  },
  {
   "cell_type": "code",
   "execution_count": 6,
   "metadata": {},
   "outputs": [
    {
     "name": "stdout",
     "output_type": "stream",
     "text": [
      "p\n",
      "y\n",
      "t\n",
      "h\n",
      "o\n",
      "n\n",
      " \n",
      "p\n",
      "r\n",
      "o\n",
      "g\n",
      "r\n",
      "a\n",
      "m\n",
      "m\n",
      "i\n",
      "n\n",
      "g\n",
      "4\n"
     ]
    }
   ],
   "source": [
    "# Iterating over a String\n",
    "s = \"python programming\"\n",
    "for ele in s:\n",
    "    print(ele)\n",
    "print(len(a))"
   ]
  },
  {
   "cell_type": "code",
   "execution_count": 11,
   "metadata": {},
   "outputs": [
    {
     "name": "stdout",
     "output_type": "stream",
     "text": [
      "a:a[a]\n",
      "b:a[b]\n",
      "c:a[c]\n",
      "3\n"
     ]
    }
   ],
   "source": [
    "# Iterating over dictionary\n",
    "a = {'a':\"ujjwal\" , 'b': 200 , 'c':2.0}\n",
    "for i in a:\n",
    "    print(f\"{i}:a[{i}]\")\n",
    "print(len(a))"
   ]
  },
  {
   "cell_type": "code",
   "execution_count": null,
   "metadata": {},
   "outputs": [],
   "source": []
  }
 ],
 "metadata": {
  "interpreter": {
   "hash": "4f089d5d4fecc9b26343308b996fdd689be150f0b9db90d9fd8a6c55a5fc822c"
  },
  "kernelspec": {
   "display_name": "Python 3.7.8rc1 64-bit",
   "language": "python",
   "name": "python3"
  },
  "language_info": {
   "codemirror_mode": {
    "name": "ipython",
    "version": 3
   },
   "file_extension": ".py",
   "mimetype": "text/x-python",
   "name": "python",
   "nbconvert_exporter": "python",
   "pygments_lexer": "ipython3",
   "version": "3.7.8rc1"
  },
  "orig_nbformat": 4
 },
 "nbformat": 4,
 "nbformat_minor": 2
}
